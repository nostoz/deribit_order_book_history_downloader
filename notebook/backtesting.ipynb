{
 "cells": [
  {
   "cell_type": "code",
   "execution_count": 2,
   "metadata": {},
   "outputs": [
    {
     "name": "stdout",
     "output_type": "stream",
     "text": [
      "/home/seb/crypto_vol/deribit_volatility_download_and_visualize\n",
      "/home/seb/crypto_vol/deribit_volatility_download_and_visualize/notebook\n"
     ]
    }
   ],
   "source": [
    "import pandas as pd\n",
    "from datetime import datetime, timedelta, timezone\n",
    "import numpy as np\n",
    "\n",
    "import os\n",
    "%cd ..\n",
    "from utils import read_json, build_option_expiries\n",
    "from influxdb_wrapper import InfluxDBWrapper\n",
    "%cd -"
   ]
  },
  {
   "cell_type": "code",
   "execution_count": 3,
   "metadata": {},
   "outputs": [],
   "source": [
    "config = read_json('../config.json')\n",
    "bucket = 'btc_vol_surfaces'\n",
    "wrapper = InfluxDBWrapper(config['database']['url'], config['database']['token'], config['database']['org'], db_timeout=30_000)\n",
    "obs_time='2023-06-07T06:40:00Z'"
   ]
  },
  {
   "cell_type": "code",
   "execution_count": 4,
   "metadata": {},
   "outputs": [],
   "source": [
    "start='2023-05-15T00:00:00Z'\n",
    "end=obs_time\n",
    "delta=15\n",
    "tenor='3M'\n",
    "normalize_by_ATM=False\n",
    "timeframe='5m'"
   ]
  },
  {
   "cell_type": "code",
   "execution_count": 5,
   "metadata": {},
   "outputs": [
    {
     "name": "stdout",
     "output_type": "stream",
     "text": [
      "func:'get_historical_risk_reversal_by_delta_and_tenor' took: 20.9393 sec\n",
      "func:'get_historical_risk_reversal_by_delta_and_tenor' took: 17.8544 sec\n",
      "func:'get_historical_risk_reversal_by_delta_and_tenor' took: 17.1577 sec\n"
     ]
    },
    {
     "data": {
      "text/plain": [
       "timestamp\n",
       "2023-05-15 00:05:00   -0.352679\n",
       "2023-05-15 00:10:00   -0.586514\n",
       "2023-05-15 00:15:00   -0.693958\n",
       "2023-05-15 00:20:00   -0.955055\n",
       "2023-05-15 00:25:00   -0.909051\n",
       "                         ...   \n",
       "2023-06-07 06:20:00    3.278221\n",
       "2023-06-07 06:25:00    3.250578\n",
       "2023-06-07 06:30:00    3.134199\n",
       "2023-06-07 06:35:00    3.110885\n",
       "2023-06-07 06:40:00    3.092498\n",
       "Name: mid_iv, Length: 6609, dtype: float64"
      ]
     },
     "execution_count": 5,
     "metadata": {},
     "output_type": "execute_result"
    }
   ],
   "source": [
    "def set_entries(start, end, delta, tenor='30D', field='mid_iv', normalize_by_ATM=False, timeframe=False):\n",
    "    historical_volatilities = wrapper.get_historical_risk_reversal_by_delta_and_tenor(bucket, 'volatility',\n",
    "                                                                                       start,\n",
    "                                                                                       end,\n",
    "                                                                                       delta, tenor, field, normalize_by_ATM, timeframe)\n",
    "    historical_volatilities['rolling_avg'] = historical_volatilities[field].rolling(1*12*24).mean()\n",
    "    historical_volatilities['rolling_std'] = historical_volatilities[field].rolling(1*12*24).std()\n",
    "\n",
    "    for idx, row in historical_volatilities.iterrows():\n",
    "        if row[field] < row['rolling_avg'] - 3 * row['rolling_std']:\n",
    "            historical_volatilities.loc[idx, 'trade_side'] = 1\n",
    "        elif row[field] > row['rolling_avg'] + 3 * row['rolling_std']:\n",
    "            historical_volatilities.loc[idx, 'trade_side'] = -1\n",
    "        else:\n",
    "            historical_volatilities.loc[idx, 'trade_side'] = 0\n",
    "\n",
    "    return historical_volatilities.set_index('timestamp')[field]\n",
    "\n",
    "\n",
    "entries = set_entries(start='2023-05-15T00:00:00Z', end=obs_time, delta=15, tenor='3M', normalize_by_ATM=False, timeframe='5m')\n",
    "\n",
    "def set_exits(start, end, delta, tenor='30D', field='mid_iv', normalize_by_ATM=False, timeframe=False):\n",
    "    historical_volatilities = wrapper.get_historical_risk_reversal_by_delta_and_tenor(bucket, 'volatility',\n",
    "                                                                                       start,\n",
    "                                                                                       end,\n",
    "                                                                                       delta, tenor, field, normalize_by_ATM, timeframe)\n",
    "    historical_volatilities['rolling_avg'] = historical_volatilities[field].rolling(5*12*24).mean()\n",
    "\n",
    "    for idx, row in historical_volatilities.iterrows():\n",
    "        if row[field] > row['rolling_avg']:\n",
    "            historical_volatilities.loc[idx, 'trade_side'] = -1\n",
    "        elif row[field] < row['rolling_avg']:\n",
    "            historical_volatilities.loc[idx, 'trade_side'] = 1\n",
    "        else:\n",
    "            historical_volatilities.loc[idx, 'trade_side'] = 0\n",
    "\n",
    "    return historical_volatilities.set_index('timestamp')[field]\n",
    "\n",
    "\n",
    "entries = set_entries(start='2023-05-15T00:00:00Z', end=obs_time, delta=15, tenor='3M', normalize_by_ATM=False, timeframe='5m')\n",
    "exits = set_exits(start='2023-05-15T00:00:00Z', end=obs_time, delta=15, tenor='3M', normalize_by_ATM=False, timeframe='5m')\n",
    "exits\n"
   ]
  },
  {
   "cell_type": "code",
   "execution_count": 7,
   "metadata": {},
   "outputs": [],
   "source": [
    "def RunBacktest_RR(entry, vols_bids, vols_asks, exit_trade, stake_amt, fee, slippage):\n",
    "    candle_lives = 1\n",
    "    unrealized_pnl = np.empty(entry.shape[0])\n",
    "    unrealized_pnl.fill(np.NaN) \n",
    "    realized_pnl = np.zeros(entry.shape[0])\n",
    "    exit_pnl = np.zeros(entry.shape[0])\n",
    "    \n",
    "    lowest_pnl_leg_one = 0\n",
    "    lowest_pnl_leg_two = 0\n",
    "    \n",
    "    for index in range(entry.shape[0]):\n",
    "\n",
    "        if candle_lives != 1:\n",
    "            candle_lives -= 1\n",
    "            continue\n",
    "\n",
    "        if (entry[index] != 0 and entry[index - 1] == 0):\n",
    "\n",
    "            if entry[index] == 1 and entry[index - 1] == 0:\n",
    "                vols = vols_asks\n",
    "            else:\n",
    "                vols = vols_bids\n",
    "\n",
    "            entry_price_coin_one = vols[index]\n",
    "            entry_price_coin_two = vols[index]\n",
    "            coin_one_amount = 1 #stake_amt / vols[index]\n",
    "            coin_two_amount = 1 #stake_amt / vols[index]\n",
    "\n",
    "            candle_lives = 0\n",
    "            pnl_leg_one = 0\n",
    "            pnl_leg_two = 0\n",
    "            while exit_trade[index + candle_lives] == entry[index]:\n",
    "                #calc unrealized pnl\n",
    "                if index + candle_lives == entry.shape[0] - 1:\n",
    "                    px_coin_one_exit = vols[index + candle_lives]\n",
    "                    px_coin_two_exit = vols[index + candle_lives]\n",
    "                else:\n",
    "                    px_coin_one_exit = vols[index + candle_lives]  \n",
    "                    px_coin_two_exit = vols[index + candle_lives]\n",
    "\n",
    "                pnl_leg_one = (px_coin_one_exit - vols[index]) * coin_one_amount * -entry[index] \\\n",
    "                    - (fee + slippage) * 2 * entry_price_coin_one * coin_one_amount - (fee + slippage) * 2 * px_coin_one_exit * coin_one_amount\n",
    "                pnl_leg_two = (px_coin_two_exit - vols[index]) * coin_two_amount * entry[index] \\\n",
    "                    - (fee + slippage) * 2 * entry_price_coin_two * coin_two_amount - (fee + slippage) * 2 * px_coin_two_exit * coin_two_amount\n",
    "                unrealized_pnl[index + candle_lives] = pnl_leg_one + pnl_leg_two\n",
    "                \n",
    "                if pnl_leg_one < lowest_pnl_leg_one:\n",
    "                    lowest_pnl_leg_one = pnl_leg_one\n",
    "                if pnl_leg_two < lowest_pnl_leg_two:\n",
    "                    lowest_pnl_leg_two = pnl_leg_two\n",
    "\n",
    "                if index + candle_lives == entry.shape[0] - 1:\n",
    "                    exit_pnl[index + candle_lives] = pnl_leg_one + pnl_leg_two\n",
    "                    break\n",
    "                candle_lives += 1\n",
    "\n",
    "            realized_pnl[index + candle_lives] = pnl_leg_one + pnl_leg_two\n",
    "\n",
    "    return unrealized_pnl, realized_pnl, exit_pnl, lowest_pnl_leg_one, lowest_pnl_leg_two   "
   ]
  },
  {
   "cell_type": "code",
   "execution_count": 8,
   "metadata": {},
   "outputs": [
    {
     "name": "stdout",
     "output_type": "stream",
     "text": [
      "func:'get_historical_risk_reversal_by_delta_and_tenor' took: 22.2577 sec\n",
      "func:'get_historical_risk_reversal_by_delta_and_tenor' took: 20.8066 sec\n"
     ]
    },
    {
     "data": {
      "text/plain": [
       "(array([nan, nan, nan, ..., nan, nan, nan]),\n",
       " array([0., 0., 0., ..., 0., 0., 0.]),\n",
       " array([0., 0., 0., ..., 0., 0., 0.]),\n",
       " 0,\n",
       " 0)"
      ]
     },
     "execution_count": 8,
     "metadata": {},
     "output_type": "execute_result"
    }
   ],
   "source": [
    "vols_bids = wrapper.get_historical_risk_reversal_by_delta_and_tenor(bucket, 'volatility',\n",
    "                                                                                       start,\n",
    "                                                                                       end,\n",
    "                                                                                       delta, tenor, field='bid_iv', normalize_by_ATM=normalize_by_ATM, timeframe=timeframe)\n",
    "vols_asks = wrapper.get_historical_risk_reversal_by_delta_and_tenor(bucket, 'volatility',\n",
    "                                                                                       start,\n",
    "                                                                                       end,\n",
    "                                                                                       delta, tenor, field='ask_iv', normalize_by_ATM=normalize_by_ATM, timeframe=timeframe)\n"
   ]
  },
  {
   "cell_type": "code",
   "execution_count": 10,
   "metadata": {},
   "outputs": [
    {
     "data": {
      "text/plain": [
       "(array([nan, nan, nan, ..., nan, nan, nan]),\n",
       " array([0., 0., 0., ..., 0., 0., 0.]),\n",
       " array([0., 0., 0., ..., 0., 0., 0.]),\n",
       " 0,\n",
       " 0)"
      ]
     },
     "execution_count": 10,
     "metadata": {},
     "output_type": "execute_result"
    }
   ],
   "source": [
    "backtest = RunBacktest_RR(entries, vols_bids, vols_asks, exits, 0, 0, 0)\n",
    "backtest"
   ]
  },
  {
   "cell_type": "code",
   "execution_count": null,
   "metadata": {},
   "outputs": [],
   "source": []
  }
 ],
 "metadata": {
  "kernelspec": {
   "display_name": "cvol",
   "language": "python",
   "name": "python3"
  },
  "language_info": {
   "codemirror_mode": {
    "name": "ipython",
    "version": 3
   },
   "file_extension": ".py",
   "mimetype": "text/x-python",
   "name": "python",
   "nbconvert_exporter": "python",
   "pygments_lexer": "ipython3",
   "version": "3.10.9"
  },
  "orig_nbformat": 4
 },
 "nbformat": 4,
 "nbformat_minor": 2
}
